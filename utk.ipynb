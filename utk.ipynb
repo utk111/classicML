{
 "cells": [
  {
   "cell_type": "code",
   "execution_count": 1,
   "id": "774ba513",
   "metadata": {},
   "outputs": [],
   "source": [
    "import numpy as np\n",
    "import sklearn \n",
    "import pandas as pd\n",
    "from sklearn.model_selection import train_test_split\n",
    "from sklearn.feature_extraction.text import CountVectorizer\n",
    "from sklearn.feature_extraction.text import TfidfVectorizer\n",
    "from sklearn import svm\n",
    "from sklearn import metrics"
   ]
  },
  {
   "cell_type": "code",
   "execution_count": 2,
   "id": "2a14640d",
   "metadata": {},
   "outputs": [],
   "source": [
    "X=pd.read_csv(r'C:\\Users\\acer\\Documents\\twitter_data.csv')"
   ]
  },
  {
   "cell_type": "code",
   "execution_count": 3,
   "id": "006e213e",
   "metadata": {},
   "outputs": [
    {
     "name": "stdout",
     "output_type": "stream",
     "text": [
      "                                              twitts  sentiment\n",
      "0        robbiebronniman ##sounds like a great night          1\n",
      "1  damn the person who stolde my wallet may karma...          1\n",
      "2               greetings from the piano bench photo          1\n",
      "3  drewryanscott i love it i l$ove you haha forge...          1\n",
      "4  kissthestars pretty pretty pretty please pakid...          0\n"
     ]
    }
   ],
   "source": [
    "# top 5 rows of data\n",
    "print(X.head())  "
   ]
  },
  {
   "cell_type": "code",
   "execution_count": 4,
   "id": "9695e0a3",
   "metadata": {},
   "outputs": [],
   "source": [
    "# A function to clean the text in twitts coloumn. It revoves all the special charcters,extra spaces and digits in the string.\n",
    "def data_clean(X) :\n",
    " spec_chars = [\"!\",'\"',\"#\",\"%\",\"&\",\"'\",\"(\",\")\",\n",
    "              \"*\",\"+\",\",\",\"-\",\".\",\"/\",\":\",\";\",\"<\",\n",
    "              \"=\",\">\",\"?\",\"@\",\"[\",\"\\\\\",\"]\",\"^\",\"_\",\n",
    "              \"`\",\"{\",\"|\",\"}\",\"~\",\"–\",\"$\",\".\"]\n",
    " for char in spec_chars:\n",
    "    X['twitts']= X['twitts'].str.replace(char,\"\")\n",
    " X.replace('\\d+','',regex=True,inplace=True)"
   ]
  },
  {
   "cell_type": "code",
   "execution_count": 5,
   "id": "25330a5f",
   "metadata": {},
   "outputs": [
    {
     "name": "stderr",
     "output_type": "stream",
     "text": [
      "<ipython-input-4-284d7f619e0a>:8: FutureWarning: The default value of regex will change from True to False in a future version. In addition, single character regular expressions will*not* be treated as literal strings when regex=True.\n",
      "  X['twitts']= X['twitts'].str.replace(char,\"\")\n"
     ]
    },
    {
     "data": {
      "text/html": [
       "<div>\n",
       "<style scoped>\n",
       "    .dataframe tbody tr th:only-of-type {\n",
       "        vertical-align: middle;\n",
       "    }\n",
       "\n",
       "    .dataframe tbody tr th {\n",
       "        vertical-align: top;\n",
       "    }\n",
       "\n",
       "    .dataframe thead th {\n",
       "        text-align: right;\n",
       "    }\n",
       "</style>\n",
       "<table border=\"1\" class=\"dataframe\">\n",
       "  <thead>\n",
       "    <tr style=\"text-align: right;\">\n",
       "      <th></th>\n",
       "      <th>twitts</th>\n",
       "      <th>sentiment</th>\n",
       "    </tr>\n",
       "  </thead>\n",
       "  <tbody>\n",
       "    <tr>\n",
       "      <th>0</th>\n",
       "      <td>robbiebronniman sounds like a great night</td>\n",
       "      <td>1</td>\n",
       "    </tr>\n",
       "    <tr>\n",
       "      <th>1</th>\n",
       "      <td>damn the person who stolde my wallet may karma...</td>\n",
       "      <td>1</td>\n",
       "    </tr>\n",
       "    <tr>\n",
       "      <th>2</th>\n",
       "      <td>greetings from the piano bench photo</td>\n",
       "      <td>1</td>\n",
       "    </tr>\n",
       "    <tr>\n",
       "      <th>3</th>\n",
       "      <td>drewryanscott i love it i love you haha forget...</td>\n",
       "      <td>1</td>\n",
       "    </tr>\n",
       "    <tr>\n",
       "      <th>4</th>\n",
       "      <td>kissthestars pretty pretty pretty please pakid...</td>\n",
       "      <td>0</td>\n",
       "    </tr>\n",
       "    <tr>\n",
       "      <th>...</th>\n",
       "      <td>...</td>\n",
       "      <td>...</td>\n",
       "    </tr>\n",
       "    <tr>\n",
       "      <th>29995</th>\n",
       "      <td>calumfan is it in any way related to photoshop</td>\n",
       "      <td>0</td>\n",
       "    </tr>\n",
       "    <tr>\n",
       "      <th>29996</th>\n",
       "      <td>swiznz really wow thats crap</td>\n",
       "      <td>0</td>\n",
       "    </tr>\n",
       "    <tr>\n",
       "      <th>29997</th>\n",
       "      <td>at the  lexus hsh press event again cannot tel...</td>\n",
       "      <td>0</td>\n",
       "    </tr>\n",
       "    <tr>\n",
       "      <th>29998</th>\n",
       "      <td>karmicunderpath ooh now there is a nice thought</td>\n",
       "      <td>1</td>\n",
       "    </tr>\n",
       "    <tr>\n",
       "      <th>29999</th>\n",
       "      <td>mariap i would usually ask you about the sun a...</td>\n",
       "      <td>1</td>\n",
       "    </tr>\n",
       "  </tbody>\n",
       "</table>\n",
       "<p>30000 rows × 2 columns</p>\n",
       "</div>"
      ],
      "text/plain": [
       "                                                  twitts  sentiment\n",
       "0              robbiebronniman sounds like a great night          1\n",
       "1      damn the person who stolde my wallet may karma...          1\n",
       "2                   greetings from the piano bench photo          1\n",
       "3      drewryanscott i love it i love you haha forget...          1\n",
       "4      kissthestars pretty pretty pretty please pakid...          0\n",
       "...                                                  ...        ...\n",
       "29995     calumfan is it in any way related to photoshop          0\n",
       "29996                       swiznz really wow thats crap          0\n",
       "29997  at the  lexus hsh press event again cannot tel...          0\n",
       "29998    karmicunderpath ooh now there is a nice thought          1\n",
       "29999  mariap i would usually ask you about the sun a...          1\n",
       "\n",
       "[30000 rows x 2 columns]"
      ]
     },
     "execution_count": 5,
     "metadata": {},
     "output_type": "execute_result"
    }
   ],
   "source": [
    "#cleaned data\n",
    "data_clean(X)\n",
    "X"
   ]
  },
  {
   "cell_type": "code",
   "execution_count": 6,
   "id": "58c8df6e",
   "metadata": {},
   "outputs": [
    {
     "data": {
      "text/plain": [
       "twitts       False\n",
       "sentiment    False\n",
       "dtype: bool"
      ]
     },
     "execution_count": 6,
     "metadata": {},
     "output_type": "execute_result"
    }
   ],
   "source": [
    "# checking wether there are any missing values in both coloumns\n",
    "X.isna().any()"
   ]
  },
  {
   "cell_type": "code",
   "execution_count": 7,
   "id": "1c9e75f0",
   "metadata": {},
   "outputs": [
    {
     "name": "stdout",
     "output_type": "stream",
     "text": [
      "(30000,) (30000,)\n"
     ]
    }
   ],
   "source": [
    "data=X[\"twitts\"]\n",
    "target=X[\"sentiment\"]\n",
    "print(data.shape,target.shape)"
   ]
  },
  {
   "cell_type": "code",
   "execution_count": 8,
   "id": "fe6d163c",
   "metadata": {},
   "outputs": [],
   "source": [
    "vectorizer1 = TfidfVectorizer(analyzer='word',ngram_range=(1,1),stop_words='english')\n",
    "data_c=vectorizer1.fit_transform(list(data))"
   ]
  },
  {
   "cell_type": "code",
   "execution_count": 9,
   "id": "f34e6fae",
   "metadata": {},
   "outputs": [
    {
     "name": "stdout",
     "output_type": "stream",
     "text": [
      "(30000, 40367)\n"
     ]
    }
   ],
   "source": [
    "print(data_c.shape)\n"
   ]
  },
  {
   "cell_type": "code",
   "execution_count": 10,
   "id": "e5d78366",
   "metadata": {},
   "outputs": [],
   "source": [
    "clf=svm.SVC(kernel='rbf')"
   ]
  },
  {
   "cell_type": "code",
   "execution_count": 11,
   "id": "7db67755",
   "metadata": {},
   "outputs": [],
   "source": [
    "X_train, X_test, y_train, y_test = train_test_split(data_c,target, test_size=0.2,random_state=109)"
   ]
  },
  {
   "cell_type": "code",
   "execution_count": 12,
   "id": "ee8e5042",
   "metadata": {},
   "outputs": [
    {
     "name": "stdout",
     "output_type": "stream",
     "text": [
      "(24000, 40367)\n",
      "(6000, 40367)\n",
      "(24000,)\n",
      "(6000,)\n"
     ]
    }
   ],
   "source": [
    "print(X_train.shape)\n",
    "print(X_test.shape)\n",
    "print(y_train.shape)\n",
    "print(y_test.shape)"
   ]
  },
  {
   "cell_type": "code",
   "execution_count": 13,
   "id": "4e85cd8c",
   "metadata": {},
   "outputs": [
    {
     "data": {
      "text/plain": [
       "SVC()"
      ]
     },
     "execution_count": 13,
     "metadata": {},
     "output_type": "execute_result"
    }
   ],
   "source": [
    "clf.fit(X_train,y_train)"
   ]
  },
  {
   "cell_type": "code",
   "execution_count": 14,
   "id": "41b495da",
   "metadata": {},
   "outputs": [],
   "source": [
    "y_pred1 = clf.predict(X_test)"
   ]
  },
  {
   "cell_type": "code",
   "execution_count": 15,
   "id": "32c14dfc",
   "metadata": {},
   "outputs": [
    {
     "name": "stdout",
     "output_type": "stream",
     "text": [
      "(6000,)\n"
     ]
    }
   ],
   "source": [
    "print(y_pred1.shape)"
   ]
  },
  {
   "cell_type": "code",
   "execution_count": 16,
   "id": "1e95c3e4",
   "metadata": {},
   "outputs": [
    {
     "name": "stdout",
     "output_type": "stream",
     "text": [
      "Accuracy: 73.25\n"
     ]
    }
   ],
   "source": [
    "print(\"Accuracy:\",metrics.accuracy_score(y_test, y_pred1)*100)"
   ]
  },
  {
   "cell_type": "code",
   "execution_count": 17,
   "id": "19742d25",
   "metadata": {},
   "outputs": [],
   "source": [
    "\n",
    "vectorizer2=CountVectorizer(analyzer='word',ngram_range=(1,1),stop_words='english')"
   ]
  },
  {
   "cell_type": "code",
   "execution_count": 18,
   "id": "fd50472e",
   "metadata": {},
   "outputs": [],
   "source": [
    "data_c2=vectorizer2.fit_transform(list(data))"
   ]
  },
  {
   "cell_type": "code",
   "execution_count": 19,
   "id": "3fcc6318",
   "metadata": {},
   "outputs": [
    {
     "name": "stdout",
     "output_type": "stream",
     "text": [
      "(30000, 40367)\n"
     ]
    }
   ],
   "source": [
    "print(data_c2.shape)"
   ]
  },
  {
   "cell_type": "code",
   "execution_count": 20,
   "id": "f9ea1f94",
   "metadata": {},
   "outputs": [],
   "source": [
    "clf2=svm.SVC(kernel='rbf')"
   ]
  },
  {
   "cell_type": "code",
   "execution_count": 21,
   "id": "a386722e",
   "metadata": {},
   "outputs": [],
   "source": [
    "X_train2, X_test2, y_train2, y_test2 = train_test_split(data_c2,target, test_size=0.2,random_state=10)"
   ]
  },
  {
   "cell_type": "code",
   "execution_count": 22,
   "id": "960cd0be",
   "metadata": {},
   "outputs": [
    {
     "data": {
      "text/plain": [
       "SVC()"
      ]
     },
     "execution_count": 22,
     "metadata": {},
     "output_type": "execute_result"
    }
   ],
   "source": [
    "clf2.fit(X_train2,y_train2)"
   ]
  },
  {
   "cell_type": "code",
   "execution_count": 23,
   "id": "9c9bb7d8",
   "metadata": {},
   "outputs": [],
   "source": [
    "y_pred2 = clf2.predict(X_test2)"
   ]
  },
  {
   "cell_type": "code",
   "execution_count": 24,
   "id": "510f92e5",
   "metadata": {},
   "outputs": [
    {
     "name": "stdout",
     "output_type": "stream",
     "text": [
      "Accuracy: 74.85000000000001\n"
     ]
    }
   ],
   "source": [
    "print(\"Accuracy:\",metrics.accuracy_score(y_test2, y_pred2)*100)"
   ]
  },
  {
   "cell_type": "code",
   "execution_count": 25,
   "id": "cf641d97",
   "metadata": {},
   "outputs": [
    {
     "name": "stdout",
     "output_type": "stream",
     "text": [
      "Accuracy: 94.5\n"
     ]
    }
   ],
   "source": [
    "yp=clf2.predict(X_train2)\n",
    "print(\"Accuracy:\",metrics.accuracy_score(y_train2, yp)*100)"
   ]
  },
  {
   "cell_type": "code",
   "execution_count": null,
   "id": "869e921e",
   "metadata": {},
   "outputs": [],
   "source": []
  }
 ],
 "metadata": {
  "kernelspec": {
   "display_name": "Python 3",
   "language": "python",
   "name": "python3"
  },
  "language_info": {
   "codemirror_mode": {
    "name": "ipython",
    "version": 3
   },
   "file_extension": ".py",
   "mimetype": "text/x-python",
   "name": "python",
   "nbconvert_exporter": "python",
   "pygments_lexer": "ipython3",
   "version": "3.8.8"
  }
 },
 "nbformat": 4,
 "nbformat_minor": 5
}
